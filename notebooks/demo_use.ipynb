{
 "cells": [
  {
   "cell_type": "code",
   "execution_count": 1,
   "metadata": {},
   "outputs": [],
   "source": [
    "%load_ext autoreload\n",
    "%autoreload 2"
   ]
  },
  {
   "cell_type": "code",
   "execution_count": 2,
   "metadata": {},
   "outputs": [],
   "source": [
    "import time\n",
    "import os\n",
    "from llserver.utils.handler import UniserverHandler"
   ]
  },
  {
   "cell_type": "code",
   "execution_count": 3,
   "metadata": {},
   "outputs": [
    {
     "name": "stdout",
     "output_type": "stream",
     "text": [
      "Server is ready to go\n"
     ]
    }
   ],
   "source": [
    "handler = UniserverHandler(port=8000)"
   ]
  },
  {
   "cell_type": "code",
   "execution_count": 4,
   "metadata": {},
   "outputs": [
    {
     "data": {
      "text/plain": [
       "{'running_models': {'models': {}}}"
      ]
     },
     "execution_count": 4,
     "metadata": {},
     "output_type": "execute_result"
    }
   ],
   "source": [
    "handler.get_running_models()"
   ]
  },
  {
   "cell_type": "code",
   "execution_count": 5,
   "metadata": {},
   "outputs": [
    {
     "data": {
      "text/plain": [
       "{'model_name': 'api_model',\n",
       " 'status': 'Model started',\n",
       " 'container_id': 'f059cab806fa25aefcadbb16719c330b723602c0e02bf4165e894f2783be2096',\n",
       " 'port': 8081,\n",
       " 'model_id': '4c676f9f-3cac-4933-9594-95ae319613a4'}"
      ]
     },
     "execution_count": 5,
     "metadata": {},
     "output_type": "execute_result"
    }
   ],
   "source": [
    "handler.start_model(\"api_model\")"
   ]
  },
  {
   "cell_type": "code",
   "execution_count": 6,
   "metadata": {},
   "outputs": [
    {
     "name": "stdout",
     "output_type": "stream",
     "text": [
      "{'running_models': {'models': {'4c676f9f-3cac-4933-9594-95ae319613a4': {'model_name': 'api_model', 'model_id': '4c676f9f-3cac-4933-9594-95ae319613a4', 'container_id': 'f059cab806fa25aefcadbb16719c330b723602c0e02bf4165e894f2783be2096', 'port': 8081}}}}\n"
     ]
    },
    {
     "data": {
      "text/plain": [
       "'4c676f9f-3cac-4933-9594-95ae319613a4'"
      ]
     },
     "execution_count": 6,
     "metadata": {},
     "output_type": "execute_result"
    }
   ],
   "source": [
    "info = handler.get_running_models()\n",
    "print(info)\n",
    "model_id = list(info[\"running_models\"][\"models\"].keys())[0]\n",
    "model_id"
   ]
  },
  {
   "cell_type": "code",
   "execution_count": 7,
   "metadata": {},
   "outputs": [],
   "source": [
    "prompt = \"describe this image in detail\"\n",
    "\n",
    "bind_path = \"/llserver/data\"\n",
    "image_paths = [\n",
    "    os.path.join(bind_path, \"metatmp.png\"),\n",
    "]\n",
    "model = \"gpt-4o\""
   ]
  },
  {
   "cell_type": "code",
   "execution_count": 8,
   "metadata": {},
   "outputs": [
    {
     "name": "stdout",
     "output_type": "stream",
     "text": [
      "{'model': 'gpt-4o'}\n",
      "{'model_id': '4c676f9f-3cac-4933-9594-95ae319613a4', 'prompt': 'describe this image in detail', 'image_paths': ['/llserver/data/metatmp.png'], 'extra_params': {'model': 'gpt-4o'}}\n"
     ]
    },
    {
     "data": {
      "text/plain": [
       "'b678e73a-cd19-4fdb-a416-48bf72d44a88'"
      ]
     },
     "execution_count": 8,
     "metadata": {},
     "output_type": "execute_result"
    }
   ],
   "source": [
    "put_response = handler.put_task(\n",
    "    model_id=model_id,\n",
    "    prompt=prompt,\n",
    "    image_paths=image_paths,\n",
    "    model=model\n",
    ")\n",
    "task_id = put_response[\"task_id\"][\"task_id\"]\n",
    "task_id"
   ]
  },
  {
   "cell_type": "code",
   "execution_count": 9,
   "metadata": {},
   "outputs": [
    {
     "name": "stdout",
     "output_type": "stream",
     "text": [
      "Status: completed\n",
      "The image depicts a robotic arm in a workspace setting. The arm is red and appears to be part of an industrial setup, situated over a wooden table with metallic edges. The arm is positioned to interact with objects on the table, which includes a small red cylinder and a blue sphere. The robotic arm has a gripper or end-effector that is aligned with the objects, suggesting it may be in the process of picking them up or manipulating them. The background and environment suggest a controlled industrial or laboratory environment.\n"
     ]
    }
   ],
   "source": [
    "status = \"\"\n",
    "wait_time = 1\n",
    "while status != \"completed\":\n",
    "    time.sleep(wait_time)\n",
    "    result_response = handler.get_task_result(model_id=model_id, task_id=task_id)\n",
    "    status = result_response.get(\"status\")\n",
    "    print(f\"Status: {status}\")\n",
    "\n",
    "result = result_response.get(\"result\")\n",
    "print(result)"
   ]
  },
  {
   "cell_type": "code",
   "execution_count": null,
   "metadata": {},
   "outputs": [],
   "source": [
    "handler.stop_all_models()"
   ]
  },
  {
   "cell_type": "code",
   "execution_count": null,
   "metadata": {},
   "outputs": [],
   "source": []
  },
  {
   "cell_type": "code",
   "execution_count": null,
   "metadata": {},
   "outputs": [],
   "source": []
  },
  {
   "cell_type": "code",
   "execution_count": null,
   "metadata": {},
   "outputs": [],
   "source": []
  }
 ],
 "metadata": {
  "kernelspec": {
   "display_name": "llama2",
   "language": "python",
   "name": "python3"
  },
  "language_info": {
   "codemirror_mode": {
    "name": "ipython",
    "version": 3
   },
   "file_extension": ".py",
   "mimetype": "text/x-python",
   "name": "python",
   "nbconvert_exporter": "python",
   "pygments_lexer": "ipython3",
   "version": "3.10.14"
  }
 },
 "nbformat": 4,
 "nbformat_minor": 2
}
