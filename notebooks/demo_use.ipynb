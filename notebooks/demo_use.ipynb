{
 "cells": [
  {
   "cell_type": "code",
   "execution_count": 1,
   "metadata": {},
   "outputs": [],
   "source": [
    "%load_ext autoreload\n",
    "%autoreload 2"
   ]
  },
  {
   "cell_type": "code",
   "execution_count": 1,
   "metadata": {},
   "outputs": [],
   "source": [
    "import time\n",
    "from llserver.utils.handler import UniserverHandler"
   ]
  },
  {
   "cell_type": "code",
   "execution_count": 2,
   "metadata": {},
   "outputs": [
    {
     "name": "stdout",
     "output_type": "stream",
     "text": [
      "Server is ready to go\n"
     ]
    }
   ],
   "source": [
    "handler = UniserverHandler(port=8000)"
   ]
  },
  {
   "cell_type": "code",
   "execution_count": 8,
   "metadata": {},
   "outputs": [
    {
     "data": {
      "text/plain": [
       "{'running_models': {'models': {'14c99adb-217e-48ab-b6c0-8ab0cbeae57c': {'model_name': 'lera_api',\n",
       "    'model_id': '14c99adb-217e-48ab-b6c0-8ab0cbeae57c',\n",
       "    'container_id': 'e4c0d40cf06e11b934fe07f19d74a277b80c777c39a99a9eb046fce796102929',\n",
       "    'port': 8081},\n",
       "   '4109de4a-a7bd-4255-9f32-63cd21e537c3': {'model_name': 'lera_api',\n",
       "    'model_id': '4109de4a-a7bd-4255-9f32-63cd21e537c3',\n",
       "    'container_id': 'bb13cfd6e4da154aad09ecbca7729a3c62d6993173e731b123c666ecfc0cb774',\n",
       "    'port': 8082},\n",
       "   '5a642350-f4b0-4b34-8919-f35ed777ae55': {'model_name': 'lera_api',\n",
       "    'model_id': '5a642350-f4b0-4b34-8919-f35ed777ae55',\n",
       "    'container_id': 'a300b569983b00dd6a219a4baea862ed32946788337b6628818ef9dbffc0a707',\n",
       "    'port': 8083},\n",
       "   '578a6c6b-9a44-4550-a95e-9fb7e60e11c1': {'model_name': 'lera_api',\n",
       "    'model_id': '578a6c6b-9a44-4550-a95e-9fb7e60e11c1',\n",
       "    'container_id': '08e11bf542474de7fdff9b1fed1cc4345f991d2a8456c0819c926ec839315ccc',\n",
       "    'port': 8084}}}}"
      ]
     },
     "execution_count": 8,
     "metadata": {},
     "output_type": "execute_result"
    }
   ],
   "source": [
    "handler.get_running_models()"
   ]
  },
  {
   "cell_type": "code",
   "execution_count": 10,
   "metadata": {},
   "outputs": [
    {
     "data": {
      "text/plain": [
       "['goal', '', 'bad', '']"
      ]
     },
     "execution_count": 10,
     "metadata": {},
     "output_type": "execute_result"
    }
   ],
   "source": [
    "a = \"gemini\"\n",
    "b = \"gemini-pro-1.5\"\n",
    "c = \"gemini###alfred\"\n",
    "prompt = \"goal######bad###\"\n",
    "prompt.split(\"###\")"
   ]
  },
  {
   "cell_type": "code",
   "execution_count": 31,
   "metadata": {},
   "outputs": [
    {
     "data": {
      "text/plain": [
       "{'model_name': 'lera_api',\n",
       " 'status': 'Model started',\n",
       " 'container_id': '9fb376a45e174ef082e9d85ad92b9aff0029fccd1dce939862f0a36d40c2a32d',\n",
       " 'port': 8084,\n",
       " 'model_id': 'e96cfd9c-4fc1-4309-a0e1-389e6155768d'}"
      ]
     },
     "execution_count": 31,
     "metadata": {},
     "output_type": "execute_result"
    }
   ],
   "source": [
    "handler.start_model(\"lera_api\")"
   ]
  },
  {
   "cell_type": "code",
   "execution_count": 28,
   "metadata": {},
   "outputs": [
    {
     "data": {
      "text/plain": [
       "'f3845c27-2017-4289-b6bf-d9093df40f4b'"
      ]
     },
     "execution_count": 28,
     "metadata": {},
     "output_type": "execute_result"
    }
   ],
   "source": [
    "info = handler.get_running_models()\n",
    "model_id = list(info[\"running_models\"][\"models\"].keys())[0]\n",
    "model_id"
   ]
  },
  {
   "cell_type": "code",
   "execution_count": null,
   "metadata": {},
   "outputs": [],
   "source": [
    "prompt = \"compare images, describe the difference between them\"\n",
    "base_path = \"/llserver/data/\"\n",
    "image_paths = [\n",
    "    base_path + \"lera_test_replanner/0.png\",\n",
    "    base_path + \"metatmp.png\",\n",
    "]\n",
    "# model = \"gemini-pro-1.5\"\n",
    "model = \"gpt-4o\""
   ]
  },
  {
   "cell_type": "code",
   "execution_count": 29,
   "metadata": {},
   "outputs": [
    {
     "name": "stdout",
     "output_type": "stream",
     "text": [
      "{'model': 'gpt-4o'}\n",
      "{'model_id': 'f3845c27-2017-4289-b6bf-d9093df40f4b', 'prompt': 'compare images, describe the difference between them', 'image_paths': ['/llserver/data/lera_test_replanner/0.png', '/llserver/data/metatmp.png'], 'extra_params': {'model': 'gpt-4o'}}\n"
     ]
    },
    {
     "data": {
      "text/plain": [
       "'3a2173c8-71db-4923-95f6-ca51def19929'"
      ]
     },
     "execution_count": 29,
     "metadata": {},
     "output_type": "execute_result"
    }
   ],
   "source": [
    "put_response = handler.put_task(model_id=model_id, prompt=prompt, image_paths=image_paths, model=model)\n",
    "task_id = put_response[\"task_id\"][\"task_id\"]\n",
    "task_id"
   ]
  },
  {
   "cell_type": "code",
   "execution_count": 30,
   "metadata": {},
   "outputs": [
    {
     "name": "stdout",
     "output_type": "stream",
     "text": [
      "Status: completed\n",
      "The images depict scenes involving robotic arms interacting with objects, but there are notable differences:\n",
      "\n",
      "1. **Robot Arm Color**:\n",
      "   - The first image has a black-and-white robotic arm.\n",
      "   - The second image features a red robotic arm.\n",
      "\n",
      "2. **Objects**:\n",
      "   - In the first image, there are three colored cubes (red, green, blue) and a red circular object.\n",
      "   - The second image shows three objects: a red cube, a blue sphere, and a blue object grasped by the robot.\n",
      "\n",
      "3. **Environment**:\n",
      "   - The first image is set on a checkered blue-and-white floor with a dark square mat.\n",
      "   - The second image shows a wooden surface confined within gray walls, suggesting a tabletop setup.\n",
      "\n",
      "4. **Action**:\n",
      "   - The first robotic arm is picking up or interacting with a blue cube, near the red circular object.\n",
      "   - The second arm is holding a long object with red and blue ends, while other small objects are on the table.\n",
      "\n",
      "These differences highlight variations in color, object type, environment, and the actions performed by the robotic arms.\n"
     ]
    }
   ],
   "source": [
    "status = \"\"\n",
    "wait_time = 3\n",
    "while status != \"completed\":\n",
    "    time.sleep(wait_time)\n",
    "    result_response = handler.get_task_result(model_id=model_id, task_id=task_id)\n",
    "    status = result_response.get(\"status\")\n",
    "    print(f\"Status: {status}\")\n",
    "\n",
    "result = result_response.get(\"result\")\n",
    "print(result)"
   ]
  },
  {
   "cell_type": "code",
   "execution_count": null,
   "metadata": {},
   "outputs": [],
   "source": [
    "handler.stop_model(model_id=model_id)"
   ]
  },
  {
   "cell_type": "code",
   "execution_count": 9,
   "metadata": {},
   "outputs": [
    {
     "name": "stdout",
     "output_type": "stream",
     "text": [
      "{'model_id': '447e2674-b04f-4c52-97af-c0e56f97abf6', 'status': 'Model stopped', 'container_id': '2b23c055f28fcd9a4b137b211234aeb2978b46c385a3ef7d256aa352c72c705f', 'port': 8081}\n",
      "{'model_id': 'ba0db6cc-92de-4b2d-8f39-90120e3d2d87', 'status': 'Model stopped', 'container_id': '16345b5dfc457200d2b8095fd6072d837cfb30616fc142812d45579cdbba8ecb', 'port': 8083}\n",
      "{'model_id': 'f498daa8-deec-4f31-89ef-01cd3767e2e9', 'status': 'Model stopped', 'container_id': '5f8da6e4d9b749dc5165825420813d58f388e398ab32e2e72d83e20f4ce33f57', 'port': 8084}\n",
      "{'model_id': 'f841f9e3-3732-42a4-a67f-29292f6397d7', 'status': 'Model stopped', 'container_id': '7127dcff8b5a3c9e17c1cc521aba0d80f49dfbbc51512df9369e072f45dad2e4', 'port': 8085}\n"
     ]
    }
   ],
   "source": [
    "handler.stop_all_models()"
   ]
  },
  {
   "cell_type": "code",
   "execution_count": null,
   "metadata": {},
   "outputs": [],
   "source": []
  }
 ],
 "metadata": {
  "kernelspec": {
   "display_name": "llama2",
   "language": "python",
   "name": "python3"
  },
  "language_info": {
   "codemirror_mode": {
    "name": "ipython",
    "version": 3
   },
   "file_extension": ".py",
   "mimetype": "text/x-python",
   "name": "python",
   "nbconvert_exporter": "python",
   "pygments_lexer": "ipython3",
   "version": "3.10.14"
  }
 },
 "nbformat": 4,
 "nbformat_minor": 2
}
